{
 "cells": [
  {
   "cell_type": "code",
   "execution_count": 1,
   "metadata": {},
   "outputs": [],
   "source": [
    "import numpy as np"
   ]
  },
  {
   "cell_type": "code",
   "execution_count": 2,
   "metadata": {},
   "outputs": [],
   "source": [
    "# Calculate Energy storage capacity [N/m^2 = Pa]\n",
    "# sigma in [Pa], E in [Pa]\n",
    "def calculator_Esc(sigma,E):\n",
    "    num = sigma**2\n",
    "    denom = 8*E\n",
    "    return num/denom"
   ]
  },
  {
   "cell_type": "code",
   "execution_count": 3,
   "metadata": {},
   "outputs": [
    {
     "name": "stdout",
     "output_type": "stream",
     "text": [
      "3.4722222222222223\n"
     ]
    }
   ],
   "source": [
    "print(calculator_Esc(50,90))"
   ]
  },
  {
   "cell_type": "code",
   "execution_count": 4,
   "metadata": {},
   "outputs": [],
   "source": [
    "# Calculate Space efficiency [unitless]\n",
    "def calculator_Se(C):\n",
    "    num = np.pi*C\n",
    "    denom = (C+1)**2\n",
    "    return num/denom"
   ]
  },
  {
   "cell_type": "code",
   "execution_count": 5,
   "metadata": {},
   "outputs": [
    {
     "name": "stdout",
     "output_type": "stream",
     "text": [
      "0.030204774311071627\n"
     ]
    }
   ],
   "source": [
    "print(calculator_Se(102))"
   ]
  },
  {
   "cell_type": "code",
   "execution_count": 6,
   "metadata": {},
   "outputs": [],
   "source": [
    "# Calculate spring's cost [USD]\n",
    "# d and D in [m], Nb in [turns], l1 and l2 in [m], rho in [kg/m^3], P in [USD/kg]\n",
    "def calculator_cost(d,D,Nb,l1,l2,rho,P):\n",
    "    l = (np.pi*D*Nb)+l1+l2 # Total spring wire length\n",
    "    V = np.pi*(d/2)**2*l # Spring wire volume\n",
    "    m = rho*V # Spring wire mass\n",
    "    return m*P "
   ]
  },
  {
   "cell_type": "code",
   "execution_count": 7,
   "metadata": {},
   "outputs": [
    {
     "name": "stdout",
     "output_type": "stream",
     "text": [
      "18353.2944708429\n"
     ]
    }
   ],
   "source": [
    "print( calculator_cost(1,2,3,4,6,27,30) )"
   ]
  },
  {
   "cell_type": "code",
   "execution_count": 8,
   "metadata": {},
   "outputs": [],
   "source": [
    "x = np.array([1, 2, 3])\n",
    "x = np.append(x,4)"
   ]
  },
  {
   "cell_type": "code",
   "execution_count": 9,
   "metadata": {},
   "outputs": [
    {
     "name": "stdout",
     "output_type": "stream",
     "text": [
      "[1 2 3 4]\n"
     ]
    }
   ],
   "source": [
    "print(x)"
   ]
  },
  {
   "cell_type": "code",
   "execution_count": 12,
   "metadata": {},
   "outputs": [
    {
     "name": "stdout",
     "output_type": "stream",
     "text": [
      "[ 2 -4 -7]\n"
     ]
    }
   ],
   "source": [
    "cost = 2\n",
    "Esc = 4\n",
    "Se = 7\n",
    "Z_OPT_Case2 = np.array([cost, -1*Esc, -1*Se])\n",
    "print(Z_OPT_Case2)"
   ]
  },
  {
   "cell_type": "code",
   "execution_count": null,
   "metadata": {},
   "outputs": [],
   "source": []
  }
 ],
 "metadata": {
  "kernelspec": {
   "display_name": "Python 3",
   "language": "python",
   "name": "python3"
  },
  "language_info": {
   "codemirror_mode": {
    "name": "ipython",
    "version": 3
   },
   "file_extension": ".py",
   "mimetype": "text/x-python",
   "name": "python",
   "nbconvert_exporter": "python",
   "pygments_lexer": "ipython3",
   "version": "3.8.5"
  }
 },
 "nbformat": 4,
 "nbformat_minor": 4
}

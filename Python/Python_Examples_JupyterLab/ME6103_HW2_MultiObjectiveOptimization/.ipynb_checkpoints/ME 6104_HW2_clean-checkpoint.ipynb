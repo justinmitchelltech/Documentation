{
 "cells": [
  {
   "cell_type": "markdown",
   "metadata": {},
   "source": [
    "## ME 6401 - Optimization: Homework Project #2\n",
    "### By: Justin Mitchell\n",
    "#### Due: 23 September 2020 @ 11:59 PM\n",
    "<img src=\"mouse.png\" width=\"200\"/>"
   ]
  },
  {
   "cell_type": "markdown",
   "metadata": {},
   "source": [
    "## Table of Contents\n",
    "\n",
    "- [Model](#1)\n",
    "    - [Compromise Decision Support Problem formulation](#1a)\n",
    "    - [Assumptions made](#1b)\n",
    "    - [Analytical relationships](#1c)\n",
    "    - [Application of principles of modeling](#1d)\n",
    "    - [Model validation](#1e)\n",
    "- [Solution](#2)\n",
    "    - [Solution technique](#2a)\n",
    "    - [Program](#2b)\n",
    "        - [Initializations](#Inits)\n",
    "        - [Helper Functions](#Helps)\n",
    "        - [Main Program](#Main)\n",
    "    - [Flow chart of program](#2c)\n",
    "- [Results Discussion](#3)\n",
    "    - [The results](#3a)\n",
    "    - [Assessment of results](#3b)\n",
    "    - [Validation of reulsts](#3c)\n",
    "    - [Conclusions and product recomendations](#3d)\n",
    "    - [Recommendations for future work](#3e)\n",
    "    - [Discussion of learning experience](#3f)\n",
    "- [References](#Refs)"
   ]
  },
  {
   "cell_type": "markdown",
   "metadata": {},
   "source": [
    "<a id='1'></a>\n",
    "## Model"
   ]
  },
  {
   "cell_type": "markdown",
   "metadata": {},
   "source": [
    "<a id='1a'></a>\n",
    "### Compromise Decision Support Problem formulation"
   ]
  },
  {
   "cell_type": "markdown",
   "metadata": {},
   "source": [
    "#### Given\n",
    "\n",
    "$l_1 =$ $1\\frac{1}{2}$\" = 38 mm, $l_2 =$ $\\frac{1}{2}\\left(3\\frac{5}{16}\\right)$\" = 42 mm\n",
    "\n",
    "$r =$ $3\\frac{5}{16}$\" = 84 mm, $\\theta =$ $\\pi =$ 180$^{\\circ}$\n",
    "\n",
    "$E =$ 210 Gpa [[1]](#Ref2), $\\sigma_y =$ 2000 MPa [[1]](#Ref2)"
   ]
  },
  {
   "cell_type": "markdown",
   "metadata": {},
   "source": [
    "#### Find\n",
    "##### System variables\n",
    "\n",
    "They determine the relevant information about the design:\n",
    "\n",
    "$N_a$: Numer of active coils  \n",
    "\n",
    "$d$: Spring wire diameter\n",
    "\n",
    "$D$: Mean coil diameter  \n",
    "\n",
    "##### Deviation variables\n",
    "\n",
    "They determine the deviation of the goals from their associated target values:\n",
    "\n",
    "$d_{c}^+$: Represents deviation above cost goal\n",
    "\n",
    "$d_{c}^-$: Represents deviation below cost goal\n",
    "\n",
    "$d_{Esc}^+$: Represents deviation above energy storage capacity goal\n",
    "\n",
    "$d_{Esc}^-$: Represents deviation below energy storage capacity goal\n",
    "\n",
    "$d_{Se}^+$: Represents deviation above space efficiency goal\n",
    "\n",
    "$d_{Se}^-$: Represents deviation below space efficiency goal\n"
   ]
  },
  {
   "cell_type": "markdown",
   "metadata": {},
   "source": [
    "#### Satisfy\n",
    "\n",
    "##### System constraints\n",
    "\n",
    "The physical constraints are:\n",
    "\n",
    "$\\sigma_y - \\sigma > 0$\n",
    "\n",
    "$50 \\leq F \\leq 60$\n",
    "\n",
    "The geometrical constraints are:\n",
    "\n",
    "$D - d \\geq D_m$ (= 2.5 mm)\n",
    "\n",
    "##### System goals\n",
    "\n",
    "Meet (low) cost target:\n",
    "\n",
    "$c + d_{c}^- - d_{c}^+ = T_c$\n",
    "\n",
    "Meet (high) target value of energy storage capacity:\n",
    "\n",
    "$\\frac{\\sigma^2}{8E} + d_{Esc}^- - d_{Esc}^+ = T_{Esc}$\n",
    "\n",
    "Meet (high) target value the space efficiency:\n",
    "\n",
    "$\\frac{\\pi C}{(C+1)^2} + d_{Se}^- - d_{Se}^+ = T_{Se}$\n",
    "\n",
    "##### Bounds\n",
    "\n",
    "Based on the designer's judgement and the physical limitations:\n",
    "\n",
    "$1 \\leq N_b \\leq 50$\n",
    "\n",
    "0.03 mm $\\leq d \\leq$ 3.5mm\n",
    "\n",
    "2.5 mm $\\leq D \\leq$ 10mm\n"
   ]
  },
  {
   "cell_type": "markdown",
   "metadata": {},
   "source": [
    "#### Minimize\n",
    "\n",
    "##### Case 1 - All goals have equal priority, Archimedean weighting scheme: $Z = d_{c}^+ + d_{Esc}^- + d_{Se}^-$\n",
    "\n",
    "##### Case 2 - Cost is much more important than the other goals, Lexicographic minimum method: $Z = \\left[\\begin{array}{rc}\\text{Cost} \\\\ \\text{Energy storage capacity} \\\\ \\text{Space efficiency} \\end{array}\\right]$\n",
    "\n",
    "##### Case 3 - Cost has the lowest priority, Lexicographic minimum method: $Z = \\left[\\begin{array}{rc}\\text{Energy storage capacity} \\\\ \\text{Space efficiency}\\\\ \\text{Cost}  \\end{array}\\right]$\n"
   ]
  },
  {
   "cell_type": "markdown",
   "metadata": {},
   "source": [
    "# <a id='1c'></a>\n",
    "### Analytical relationships"
   ]
  },
  {
   "cell_type": "markdown",
   "metadata": {},
   "source": [
    "Energy storage capacity: $\\boxed{\\frac{\\sigma^2}{8E}}$\n",
    "\n",
    "$\\sigma$: Bending stress, $E$: Young's modulus \n",
    "\n",
    "Space efficiency: $\\boxed{\\frac{\\pi C}{(C+1)^2}}$ \n",
    "\n",
    "$C = D/d$ (Spring index)\n",
    "\n",
    "$D$: Mean coil diameter, $d$: Spring wire diameter"
   ]
  },
  {
   "cell_type": "markdown",
   "metadata": {},
   "source": [
    "#### Helical Coil Torsion Spring Equations [[2]](#Ref1) \n",
    "\n",
    "$\\boxed{\\sigma = K_i \\left(\\frac{32Fr}{\\pi d^3}\\right)}$\n",
    "\n",
    "$K_i=\\frac{4C^2-C-1}{4C(C-1)}$ (Stress concentration factor)\n",
    "\n",
    "$M=Fr$ (Bending moment)\n",
    "\n",
    "$\\boxed{F=\\frac{k\\theta}{r}}$\n",
    "\n",
    "$\\theta$: Total angular deflection (in radians)\n",
    "\n",
    "Spring rate: $\\boxed{k = \\frac{d^4E}{64DN_a}}$ (torque per radian)\n",
    "\n",
    "$N_a = N_b + \\frac{l_1+l_2}{3\\pi D}$ (Number of active turns)\n",
    "\n",
    "$N_b$: Number of turns in free spring body\n",
    "\n",
    "$l_1$ and $l_2$: Spring leg lengths"
   ]
  },
  {
   "cell_type": "markdown",
   "metadata": {},
   "source": [
    "#### Cost Equations \n",
    "\n",
    "$l = (\\pi DN_b) +l_1+l_2$ (Total spring wire length) \n",
    "\n",
    "$V = \\pi(d/2)^2l \\rightarrow m = \\rho V \\rightarrow \\boxed{c = mP}$\n",
    "\n",
    "$m$: Mass (kg), $\\rho$: Material density (kg/$m^3$), $P$: Current market price per unit (USD/kg), $c$: Cost per spring (USD)"
   ]
  },
  {
   "cell_type": "markdown",
   "metadata": {},
   "source": [
    "<a id='2'></a>\n",
    "## Solution"
   ]
  },
  {
   "cell_type": "markdown",
   "metadata": {},
   "source": [
    "<a id='2a'></a>\n",
    "### Solution technique\n",
    "\n",
    "The following program solves the above problem using an exaustive search. For every number of turns in a free spring body ($N_b$), all spring wire diameters ($d$) will be searched; and for all spring wire diamters, all mean coil diamters ($D$) will be serached. "
   ]
  },
  {
   "cell_type": "markdown",
   "metadata": {},
   "source": [
    "<a id='2b'></a>\n",
    "### Program"
   ]
  },
  {
   "cell_type": "markdown",
   "metadata": {},
   "source": [
    "<a id='Inits'></a>\n",
    "#### Initializations "
   ]
  },
  {
   "cell_type": "code",
   "execution_count": 1,
   "metadata": {},
   "outputs": [
    {
     "name": "stdout",
     "output_type": "stream",
     "text": [
      "\n",
      "Nb_all:\n",
      "[ 1  2  3  4  5  6  7  8  9 10 11 12 13 14 15 16 17 18 19 20 21 22 23 24\n",
      " 25 26 27 28 29 30 31 32 33 34 35 36 37 38 39 40 41 42 43 44 45 46 47 48\n",
      " 49 50]\n",
      "\n",
      "d_all:\n",
      "[0.0003 0.0004 0.0005 0.0006 0.0007 0.0008 0.0009 0.001  0.0011 0.0012\n",
      " 0.0013 0.0014 0.0015 0.0016 0.0017 0.0018 0.0019 0.002  0.0021 0.0022\n",
      " 0.0023 0.0024 0.0025 0.0026 0.0027 0.0028 0.0029 0.003  0.0031 0.0032\n",
      " 0.0033 0.0034 0.0035]\n",
      "\n",
      "D_all:\n",
      "[0.0026 0.0028 0.003  0.0032 0.0034 0.0036 0.0038 0.004  0.0042 0.0044\n",
      " 0.0046 0.0048 0.005  0.0052 0.0054 0.0056 0.0058 0.006  0.0062 0.0064\n",
      " 0.0066 0.0068 0.007  0.0072 0.0074 0.0076 0.0078 0.008  0.0082 0.0084\n",
      " 0.0086 0.0088 0.009  0.0092 0.0094 0.0096 0.0098]\n"
     ]
    }
   ],
   "source": [
    "# Imports\n",
    "import numpy as np\n",
    "\n",
    "# Create all Nb values to try - all integers between 1 and 50 [turns]\n",
    "Nb_all = np.arange(50)+1 \n",
    "print(\"\\nNb_all:\")\n",
    "print(Nb_all)\n",
    "\n",
    "# Create all d values to try from 0.3 to 3.5 in steps of 0.1 [mm]\n",
    "d_all = (np.arange(33)/10+0.3)/1000\n",
    "print(\"\\nd_all:\")\n",
    "print(d_all)\n",
    "\n",
    "# Create all D values to try from 2.6 to 10 in steps of 0.2 [mm]\n",
    "D_all = np.arange(start=2.6e-3, stop=10e-3, step=0.2e-3)\n",
    "print(\"\\nD_all:\")\n",
    "print(D_all)\n",
    "\n",
    "#Initialize \n",
    "l1 = 38e-3 # Length of spring leg 1 [m]\n",
    "l2 = 42e-3 # Length of spring leg 2 [m]\n",
    "r = 84e-3 # Radius about which force is applied [m]\n",
    "theta = np.pi # Total angle of sring deflection [rad.]\n",
    "E = 210e9 # Young's modulus [Pa]\n",
    "yieldStress = 2000e6 # Yield stress [Pa]\n",
    "rho = 7800 # Music wire density [kg/m^3]\n",
    "P = 0.52 # Market price [USD/kg]\n",
    "Na_all = np.array([]) # For all Na values [turns]\n",
    "k_all = np.array([]) # For all k values [Nm / turn]\n",
    "F_all = np.array([]) # For all F values [N]\n",
    "Ki_all = np.array([]) # For all Ki values [unitless]\n",
    "sigma_all = np.array([]) # For all sigma values [Pa = N/m^2]\n",
    "Esc_all = np.array([]) # For all Energy storage capacity values\n",
    "Se_all = np.array([]) # For all Bending stress values [Pa = N/m^2]\n",
    "cost_all = np.array([]) # For all spring cost values [USD]\n",
    "X_OPT_Case1 = np.array([]) # To store optimal parameters result of case 1\n",
    "X_OPT_Case2 = np.array([]) # To store optimal parameters result of case 2\n",
    "X_OPT_Case3 = np.array([]) # To store optimal parameters result of case 3"
   ]
  },
  {
   "cell_type": "markdown",
   "metadata": {},
   "source": [
    "<a id='Helps'></a>\n",
    "#### Helper Functions"
   ]
  },
  {
   "cell_type": "markdown",
   "metadata": {},
   "source": [
    "##### Lexicographic Minimum "
   ]
  },
  {
   "cell_type": "code",
   "execution_count": 2,
   "metadata": {},
   "outputs": [],
   "source": [
    "# This helper function returns the lexicographic minimum vector of two input vectors and associated parameters \n",
    "def LexicoMin(Z1,Z2,X1,X2):\n",
    "    notDoneYet = True\n",
    "    i = 0\n",
    "    while notDoneYet:\n",
    "        if Z1[i] < Z2[i]:\n",
    "            return Z1, X1\n",
    "            notDoneYet = False\n",
    "        elif Z2[i] < Z1[i]:\n",
    "            return Z2, X2\n",
    "            notDoneYet = False\n",
    "        i = i + 1"
   ]
  },
  {
   "cell_type": "markdown",
   "metadata": {},
   "source": [
    "##### Archimedean Minimum "
   ]
  },
  {
   "cell_type": "code",
   "execution_count": 3,
   "metadata": {},
   "outputs": [],
   "source": [
    "# This helper function returns the Archimedean minimum vector of two input vectors weighted by weight vector and asscoiated parameters\n",
    "def ArchimedeanMin(Z1,Z2,weights,X1,X2):\n",
    "    Z1total = 0\n",
    "    Z2total = 0\n",
    "    for i in np.arange(np.size(Z1)):\n",
    "        Z1total = Z1[i]*weights[i] + Z1total\n",
    "        Z2total = Z2[i]*weights[i] + Z2total\n",
    "    if Z1total < Z2total:\n",
    "        return Z1, X1\n",
    "    else:\n",
    "        return Z2, X2"
   ]
  },
  {
   "cell_type": "markdown",
   "metadata": {},
   "source": [
    "##### Other Helper Functions"
   ]
  },
  {
   "cell_type": "code",
   "execution_count": 4,
   "metadata": {},
   "outputs": [],
   "source": [
    "# Calculate Na [turns]\n",
    "def calculator_Na(Nb,D,l1,l2):\n",
    "    num = l1 + l2\n",
    "    denom = 3*np.pi*D\n",
    "    return Nb+(num/denom)"
   ]
  },
  {
   "cell_type": "code",
   "execution_count": 5,
   "metadata": {},
   "outputs": [],
   "source": [
    "# Calculate k [Nm / turn]\n",
    "# d and D in [m], Na in [turns], E in [Pa]\n",
    "def calculator_k(d,D,Na,E):\n",
    "    num = d**4 * E\n",
    "    denom = 64*D*Na\n",
    "    return (num/denom)"
   ]
  },
  {
   "cell_type": "code",
   "execution_count": 6,
   "metadata": {},
   "outputs": [],
   "source": [
    "# Calculate F [N]\n",
    "# k in [Nm / turn], theta in [rad.], r in [m]\n",
    "def calculator_F(k,theta,r):\n",
    "    num = k * theta * (1/(2*np.pi)) # [Nm / turn]*[rad.]*[turn/rad.] = [Nm]\n",
    "    denom = r # [m]\n",
    "    return num/denom"
   ]
  },
  {
   "cell_type": "code",
   "execution_count": 7,
   "metadata": {},
   "outputs": [],
   "source": [
    "# Calculate Ki [unitless]\n",
    "# d and D in same units\n",
    "def calculator_Ki(d,D):\n",
    "    C = D/d\n",
    "    num = 4*C*C - C -1\n",
    "    denom = 4*C*(C-1)\n",
    "    return num/denom"
   ]
  },
  {
   "cell_type": "code",
   "execution_count": 8,
   "metadata": {},
   "outputs": [],
   "source": [
    "# Calculate sigma (Bending stress) [Pa]\n",
    "# F in [N], r in [m], d in [m], Ki is [unitless]\n",
    "def calculator_sigma(F,r,d,Ki):\n",
    "    num = Ki*32*F*r\n",
    "    denom = np.pi*d**3\n",
    "    return num/denom"
   ]
  },
  {
   "cell_type": "code",
   "execution_count": 9,
   "metadata": {},
   "outputs": [],
   "source": [
    "# Calculate Energy storage capacity [N/m^2 = Pa]\n",
    "# sigma in [Pa], E in [Pa]\n",
    "def calculator_Esc(sigma,E):\n",
    "    num = sigma**2\n",
    "    denom = 8*E\n",
    "    return num/denom"
   ]
  },
  {
   "cell_type": "code",
   "execution_count": 10,
   "metadata": {},
   "outputs": [],
   "source": [
    "# Calculate Space efficiency [unitless]\n",
    "def calculator_Se(C):\n",
    "    num = np.pi*C\n",
    "    denom = (C+1)**2\n",
    "    return num/denom"
   ]
  },
  {
   "cell_type": "code",
   "execution_count": 11,
   "metadata": {},
   "outputs": [],
   "source": [
    "# Calculate spring's cost [USD]\n",
    "# d and D in [m], Nb in [turns], l1 and l2 in [m], rho in [kg/m^3], P in [USD/kg]\n",
    "def calculator_cost(d,D,Nb,l1,l2,rho,P):\n",
    "    l = (np.pi*D*Nb)+l1+l2 # Total spring wire length\n",
    "    V = np.pi*(d/2)**2*l # Spring wire volume\n",
    "    m = rho*V # Spring wire mass\n",
    "    return m*P "
   ]
  },
  {
   "cell_type": "markdown",
   "metadata": {},
   "source": [
    "<a id='Main'></a>\n",
    "#### Main Program"
   ]
  },
  {
   "cell_type": "code",
   "execution_count": 12,
   "metadata": {},
   "outputs": [
    {
     "name": "stderr",
     "output_type": "stream",
     "text": [
      "<ipython-input-7-4278d2166ddb>:7: RuntimeWarning: divide by zero encountered in double_scalars\n",
      "  return num/denom\n"
     ]
    },
    {
     "name": "stdout",
     "output_type": "stream",
     "text": [
      "Main program has finished running.\n",
      "Runtime: 1.05 seconds\n"
     ]
    }
   ],
   "source": [
    "# Main nested loop to traverse parameter space and do exaustive search\n",
    "import timeit\n",
    "start = timeit.default_timer()\n",
    "\n",
    "Zo_Case1 = np.array([999999, 999999, 999999]) # init vector for first iteration\n",
    "Xo_Case1 = np.array([999999, 999999, 999999]) # init vector for first iteration\n",
    "Zo_Case2 = np.array([999999, 999999, 999999]) # init vector for first iteration\n",
    "Xo_Case2 = np.array([999999, 999999, 999999]) # init vector for first iteration\n",
    "Zo_Case3 = np.array([999999, 999999, 999999]) # init vector for first iteration\n",
    "Xo_Case3 = np.array([999999, 999999, 999999]) # init vector for first iteration\n",
    "for Nb in Nb_all:\n",
    "    for d in d_all:\n",
    "        for D in D_all:\n",
    "#             print(\"Current Iteration\"+str(Nb)+\",\"+str(d)+\",\"+str(D))\n",
    "\n",
    "            X = np.array([Nb, d, D]) # Vector of parameters to optimize\n",
    "            \n",
    "            # Calculations of relevant parameters using above helper funtions \n",
    "            Na = calculator_Na(Nb,D,l1,l2)\n",
    "            k = calculator_k(d,D,Na,E)\n",
    "            F = 2*calculator_F(k,theta,r)\n",
    "            Ki = calculator_Ki(d*10000,D*10000) # *** Causing a warning for some reason\n",
    "            sigma = calculator_sigma(F,r,d,Ki)\n",
    "            Esc = calculator_Esc(sigma,E)\n",
    "            Se = calculator_Se(D/d)\n",
    "            cost = calculator_cost(d,D,Nb,l1,l2,rho,P)\n",
    "            \n",
    "            # Check constraints \n",
    "            constraintsOK = True\n",
    "            # Yield check\n",
    "            if yieldStress < sigma: \n",
    "                constraintsOK = False\n",
    "            # Force requirement check \n",
    "            if F < 50 or F > 60:\n",
    "                constraintsOK = False\n",
    "            # Check geometrical constraint\n",
    "            if D - d < 2.5e-3: # if spring can fit around mandrel \n",
    "                constraintsOK = False\n",
    "            if constraintsOK:\n",
    "                F_all = np.append(F_all,F)\n",
    "                cost_all = np.append(cost_all,cost)\n",
    "                Esc_all = np.append(Esc_all,Esc)\n",
    "                Se_all = np.append(Se_all,F)\n",
    "            \n",
    "            # Calculate deviations/goals\n",
    "            if constraintsOK:\n",
    "                T_cost = 0.005\n",
    "                Z1_Case1 = -1*(T_cost-cost) # Minimize positive deviation\n",
    "                T_Esc = 2.5e6\n",
    "                Z2_Case1 = T_Esc - Esc # Minimize neg. deviation\n",
    "                T_Se = 60\n",
    "                Z3_Case1 = T_Se - Se # Minimize neg. deviation\n",
    "                Z_Case1 = np.array([Z1_Case1, Z2_Case1, Z3_Case1])\n",
    "                X_Case1 = np.array([Nb, d, D])\n",
    "                Zo_Case1, Xo_Case1 = ArchimedeanMin(Z_Case1,Zo_Case1,np.array([1, 1, 1]),X_Case1,Xo_Case1)\n",
    "                \n",
    "                Z_Case2 = np.array([cost, -1*Esc, -1*Se])\n",
    "                X_Case2 = np.array([Nb, d, D])\n",
    "                Zo_Case2, Xo_Case2 = LexicoMin(Z_Case2,Zo_Case2,X_Case2,Xo_Case2)\n",
    "                Z_Case3 = np.array([-1*Esc, -1*Se, cost])\n",
    "                X_Case3 = np.array([Nb, d, D])\n",
    "                Zo_Case3, Xo_Case3 = LexicoMin(Z_Case3,Zo_Case3,X_Case3,Xo_Case3)\n",
    "                \n",
    "            \n",
    "    \n",
    "            \n",
    "            \n",
    "stop = timeit.default_timer()\n",
    "print(\"Main program has finished running.\")\n",
    "print(\"Runtime: \" + str(round(stop - start,2)) + \" seconds\") "
   ]
  },
  {
   "cell_type": "code",
   "execution_count": 13,
   "metadata": {},
   "outputs": [
    {
     "name": "stdout",
     "output_type": "stream",
     "text": [
      "Xo_Case1\n",
      "[1.3e+01 3.3e-03 6.4e-03]\n",
      "Xo_Case2\n",
      "[7.0e+00 3.1e-03 9.0e-03]\n",
      "Xo_Case3\n",
      "[1.3e+01 3.3e-03 6.4e-03]\n"
     ]
    }
   ],
   "source": [
    "# print(\"F_all:\")\n",
    "# print(F_all)\n",
    "# print(\"cost_all:\")\n",
    "# print(cost_all)\n",
    "# print(\"Zo_Case1:\")\n",
    "# print(Zo_Case1)\n",
    "print(\"Xo_Case1\")\n",
    "print(Xo_Case1)\n",
    "# print(\"Zo_Case2:\")\n",
    "# print(Zo_Case2)\n",
    "print(\"Xo_Case2\")\n",
    "print(Xo_Case2)\n",
    "# print(\"Zo_Case3:\")\n",
    "# print(Zo_Case3)\n",
    "print(\"Xo_Case3\")\n",
    "print(Xo_Case3)"
   ]
  },
  {
   "cell_type": "code",
   "execution_count": 14,
   "metadata": {},
   "outputs": [
    {
     "data": {
      "image/png": "[encoded data removed]",
      "text/plain": [
       "<Figure size 450x300 with 1 Axes>"
      ]
     },
     "metadata": {
      "needs_background": "light"
     },
     "output_type": "display_data"
    },
    {
     "data": {
      "image/png": "[encoded data removed]",
      "text/plain": [
       "<Figure size 450x300 with 1 Axes>"
      ]
     },
     "metadata": {
      "needs_background": "light"
     },
     "output_type": "display_data"
    },
    {
     "data": {
      "image/png": "[encoded data removed]",
      "text/plain": [
       "<Figure size 450x300 with 1 Axes>"
      ]
     },
     "metadata": {
      "needs_background": "light"
     },
     "output_type": "display_data"
    }
   ],
   "source": [
    "import matplotlib.pyplot as plt\n",
    "plt.rcParams['figure.dpi'] = 75\n",
    "plt.plot(np.arange(np.size(cost_all)), cost_all)\n",
    "plt.show()\n",
    "plt.plot(np.arange(np.size(Esc_all)), Esc_all)\n",
    "plt.show()\n",
    "plt.plot(np.arange(np.size(Se_all)), Se_all)\n",
    "plt.show()"
   ]
  },
  {
   "cell_type": "markdown",
   "metadata": {},
   "source": [
    "<a id='Refs'></a>\n",
    "## References\n",
    "\n",
    "<a id='Ref2'></a>\n",
    "    1. http://www.matweb.com/search/DataSheet.aspx?MatGUID=4bcaab41d4eb43b3824d9de31c2c6849\n",
    "   \n",
    "<a id='Ref1'></a>\n",
    "    2. Shigley's Mechanical Engineering Design, 10th Edition, pg.542-549"
   ]
  },
  {
   "cell_type": "code",
   "execution_count": null,
   "metadata": {},
   "outputs": [],
   "source": []
  }
 ],
 "metadata": {
  "kernelspec": {
   "display_name": "Python 3",
   "language": "python",
   "name": "python3"
  },
  "language_info": {
   "codemirror_mode": {
    "name": "ipython",
    "version": 3
   },
   "file_extension": ".py",
   "mimetype": "text/x-python",
   "name": "python",
   "nbconvert_exporter": "python",
   "pygments_lexer": "ipython3",
   "version": "3.8.5"
  }
 },
 "nbformat": 4,
 "nbformat_minor": 4
}

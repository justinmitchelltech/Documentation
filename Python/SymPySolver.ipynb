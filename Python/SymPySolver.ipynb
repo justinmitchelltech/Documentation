{
 "cells": [
  {
   "cell_type": "code",
   "execution_count": 7,
   "metadata": {
    "collapsed": true
   },
   "outputs": [
    {
     "data": {
      "text/plain": "ConditionSet((a, b, c), Eq(-sin(b)*cos(c) - sin(b) - sin(c)*cos(b) - 0.1, 0) & Eq((-sin(b)*sin(c) + cos(b)*cos(c))*sin(a) + sin(a)*cos(b) + 0.2*cos(a) - 0.3, 0) & Eq((-sin(b)*sin(c) + cos(b)*cos(c))*cos(a) - 0.2*sin(a) + cos(a)*cos(b) - 0.3, 0), ProductSet(Complexes, Complexes, Complexes))",
      "text/latex": "$\\displaystyle \\left\\{\\left( a, \\  b, \\  c\\right) \\mid \\left( a, \\  b, \\  c\\right) \\in \\mathbb{C}^{3} \\wedge \\left(- \\sin{\\left(b \\right)} \\sin{\\left(c \\right)} + \\cos{\\left(b \\right)} \\cos{\\left(c \\right)}\\right) \\sin{\\left(a \\right)} + \\sin{\\left(a \\right)} \\cos{\\left(b \\right)} + 0.2 \\cos{\\left(a \\right)} - 0.3 = 0 \\wedge \\left(- \\sin{\\left(b \\right)} \\sin{\\left(c \\right)} + \\cos{\\left(b \\right)} \\cos{\\left(c \\right)}\\right) \\cos{\\left(a \\right)} - 0.2 \\sin{\\left(a \\right)} + \\cos{\\left(a \\right)} \\cos{\\left(b \\right)} - 0.3 = 0 \\wedge - \\sin{\\left(b \\right)} \\cos{\\left(c \\right)} - \\sin{\\left(b \\right)} - \\sin{\\left(c \\right)} \\cos{\\left(b \\right)} - 0.1 = 0 \\right\\}$"
     },
     "execution_count": 7,
     "metadata": {},
     "output_type": "execute_result"
    }
   ],
   "source": [
    "from sympy import cos, sin\n",
    "from sympy.core.symbol import symbols\n",
    "from sympy.solvers.solveset import nonlinsolve\n",
    "a, b, c = symbols('a, b, c', real=True)\n",
    "\n",
    "la=1\n",
    "lb=0.2\n",
    "lc=1\n",
    "\n",
    "ri = 0.3\n",
    "rj = 0.3\n",
    "rk = 0.1\n",
    "\n",
    "eq1 = -1*ri + cos(a)*(cos(b)*cos(c)-sin(b)*sin(c))*lc - sin(a)*lb + cos(a)*cos(b)*la\n",
    "eq2 = -1*rj + sin(a)*(cos(b)*cos(c)-sin(b)*sin(c))*lc + cos(a)*lb + sin(a)*cos(b)*la\n",
    "eq3 = -1*rk + (-cos(b)*sin(c)-sin(b)*cos(c))*lc - sin(b)*la\n",
    "\n",
    "system = [eq1, eq2, eq3]\n",
    "\n",
    "nonlinsolve(system, [a, b, c])"
   ]
  }
 ],
 "metadata": {
  "kernelspec": {
   "display_name": "Python 3",
   "language": "python",
   "name": "python3"
  },
  "language_info": {
   "codemirror_mode": {
    "name": "ipython",
    "version": 2
   },
   "file_extension": ".py",
   "mimetype": "text/x-python",
   "name": "python",
   "nbconvert_exporter": "python",
   "pygments_lexer": "ipython2",
   "version": "2.7.6"
  }
 },
 "nbformat": 4,
 "nbformat_minor": 0
}